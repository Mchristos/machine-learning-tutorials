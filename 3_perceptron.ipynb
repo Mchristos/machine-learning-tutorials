{
 "cells": [
  {
   "cell_type": "markdown",
   "metadata": {},
   "source": [
    "# Perceptron\n",
    "\n",
    "Defined by a weight vector $\\mathbf{w}$ and bias $b_0$. The decision boundary is defined by: \n",
    "\n",
    "$$ \\mathbf{w} \\cdot \\mathbf{v} + b_0 = 0 $$ "
   ]
  },
  {
   "cell_type": "markdown",
   "metadata": {},
   "source": [
    "#### Exercise (hard) \n",
    "\n",
    "In $n$ dimensions, find the euclidean distance between the origin and the closest point on the decision boundary (a hyperplane). \n",
    "\n",
    "The set of points on the decision boundary are those satisfying the equation above. Define \n",
    "\n",
    "$$ g(\\mathbf{v}) = \\mathbf{w} \\cdot \\mathbf{v} + b_0 $$\n",
    "and\n",
    "$$ f(\\mathbf{v}) = v_1 ^2 + v_2 ^ 2 + ... + v_n^2 =  || \\mathbf{v} || $$\n",
    "\n",
    "What we want to do is minimise the function $f$ (i.e. the length of the vector) under the constraint that \n",
    "$$ g(\\mathbf{v}) = \\mathbf{w} \\cdot \\mathbf{v} + b_0 = 0$$\n",
    "\n",
    "To do this we use lagrange multipliers!! $f$ and $g$ are both scalar functions in $n$ dimensions, and the theory of lagrange multipliers says that at the solution vector $\\mathbf{v_0}$ the *gradients* of $f$ and $g$ will ve parallel, i.e. multiples of each other. In maths, the statement is the following: \n",
    "\n",
    "$$ \\nabla f (\\mathbf{v_0}) = \\lambda \\nabla g (\\mathbf{v_0})$$\n",
    "\n",
    "for some scalar $\\lambda$. Try to visualize the gradient vector fields of $f$ and $g$ in 3D. $\\nabla f$ is a vector field whose arrows point radially. $\\nabla g$ is a constant vector field, where the values everywhere are simply $\\mathbf{w}$! In math: \n",
    "$$ \\nabla f = \\langle 2v_1, 2v_2, ... , 2v_n \\rangle = 2 \\mathbf{v}$$\n",
    "$$ \\nabla g = \\langle w_1, w_2, ... , w_n \\rangle = \\mathbf{w}$$\n",
    "\n",
    "So, following the lagrange equation, the solution vector $\\mathbf{v_0}$ must satisfy: \n",
    "$$ \\nabla f (\\mathbf{v_0}) = \\lambda \\nabla g (\\mathbf{v_0})$$\n",
    "$$ \\mathbf{v_0} = \\lambda \\mathbf{w}$$\n",
    "(absorb factor of two into lambda )\n",
    "and it must additionally obviously satisfy the constraint: \n",
    "$$ \\mathbf{w} \\cdot \\mathbf{v_0} + b_0 = 0 $$\n",
    "Substituting in, we get: \n",
    "$$ \\lambda || \\mathbf{w} || + b_0 = 0 $$\n",
    "solving for $\\lambda$: \n",
    "$$ \\lambda = \\frac{|| \\mathbf{w} || }{b_0}$$\n",
    "\n",
    "In conclusion, we get: \n",
    "\n",
    "\n",
    "$$ \\mathbf{v_0} =  \\frac{|| \\mathbf{w} || }{b_0} \\mathbf{w} $$"
   ]
  },
  {
   "cell_type": "markdown",
   "metadata": {},
   "source": [
    "### Implement perceptron training "
   ]
  },
  {
   "cell_type": "code",
   "execution_count": 2,
   "metadata": {},
   "outputs": [],
   "source": [
    "import numpy as np\n",
    "import scipy as sp\n",
    "def learn(X, Y, w, iters):\n",
    "    \"\"\" learns a vector w to classify with respect to the training data\n",
    "    X - ndarray of instances\n",
    "    Y - ndarray of labels (+1 or -1)\n",
    "    w - initial weight vector\n",
    "    iters - number of iterations \"\"\"\n",
    "    print(X)\n",
    "    for i in range(iters):\n",
    "        for j in range(X.shape[1]):  # loop over training set\n",
    "            if np.sign(np.dot(X[:, j], w)) != Y[:, j]:\n",
    "                w += X[:, j]*Y[:, j]\n",
    "    return w"
   ]
  },
  {
   "cell_type": "markdown",
   "metadata": {},
   "source": [
    "### Linearly separable data"
   ]
  },
  {
   "cell_type": "code",
   "execution_count": 5,
   "metadata": {},
   "outputs": [
    {
     "data": {
      "image/png": "[encoded data removed]",
      "text/plain": [
       "<matplotlib.figure.Figure at 0x7f350a9a2048>"
      ]
     },
     "metadata": {},
     "output_type": "display_data"
    }
   ],
   "source": [
    "import scipy.io as io\n",
    "import matplotlib.pyplot as plt\n",
    "X = io.loadmat(\"sem4_q5_linsep_data.mat\")['data']\n",
    "plt.scatter(X[:,0], X[:,1], c = X[:,2])\n",
    "plt.show()"
   ]
  },
  {
   "cell_type": "markdown",
   "metadata": {},
   "source": [
    "Use implemented perceptron to learn the weight which will correctly classify this linearly separable dataset. "
   ]
  },
  {
   "cell_type": "code",
   "execution_count": 4,
   "metadata": {},
   "outputs": [
    {
     "name": "stdout",
     "output_type": "stream",
     "text": [
      "[[0.02952541 0.72891469]\n",
      " [0.60921933 0.9985482 ]\n",
      " [0.48832842 0.5690018 ]\n",
      " [0.25257712 0.79302311]\n",
      " [0.29385304 0.44024631]\n",
      " [0.08921817 0.76760907]\n",
      " [0.00138638 0.63646037]\n",
      " [0.14820889 0.46146891]\n",
      " [0.57619975 0.99451682]\n",
      " [0.23041346 0.29485676]\n",
      " [0.21001684 0.29161877]\n",
      " [0.66188245 0.92339541]\n",
      " [0.77330082 0.97105097]\n",
      " [0.12273803 0.84324528]\n",
      " [0.08419726 0.15826948]\n",
      " [0.32568483 0.946372  ]\n",
      " [0.40334403 0.53650321]\n",
      " [0.21156169 0.94097791]\n",
      " [0.33316356 0.60553286]\n",
      " [0.22686842 0.87609567]\n",
      " [0.13939031 0.92588016]\n",
      " [0.18059117 0.61316181]\n",
      " [0.00102686 0.57304161]\n",
      " [0.7049678  0.97384146]\n",
      " [0.38322713 0.55876113]\n",
      " [0.42307395 0.80159459]\n",
      " [0.50068878 0.60970346]\n",
      " [0.15439716 0.59357548]\n",
      " [0.03200969 0.15868809]\n",
      " [0.14844999 0.87201552]\n",
      " [0.32350309 0.43446825]\n",
      " [0.07888458 0.6387263 ]\n",
      " [0.15779425 0.18170386]\n",
      " [0.23780882 0.30914546]\n",
      " [0.11924575 0.47062674]\n",
      " [0.5652858  0.81647485]\n",
      " [0.22928808 0.14234817]\n",
      " [0.10215841 0.91314427]\n",
      " [0.0604253  0.43228741]\n",
      " [0.17641495 0.49810289]\n",
      " [0.05196416 0.61157617]\n",
      " [0.02127592 0.35647768]\n",
      " [0.24898058 0.29993536]\n",
      " [0.03005931 0.70517864]\n",
      " [0.14457435 0.66472146]\n",
      " [0.42931262 0.78330278]\n",
      " [0.04973003 0.44366237]\n",
      " [0.43491738 0.86541812]\n",
      " [0.61280301 0.81364115]\n",
      " [0.48492941 0.75240972]\n",
      " [0.67184461 0.86637309]\n",
      " [0.05245745 0.77905587]\n",
      " [0.47616961 0.6427849 ]\n",
      " [0.30325946 0.40076908]\n",
      " [0.11973196 0.32474404]\n",
      " [0.54781933 0.82121611]\n",
      " [0.3590128  0.51708319]\n",
      " [0.20394914 0.74737723]\n",
      " [0.30573105 0.61691011]\n",
      " [0.09214408 0.98136598]\n",
      " [0.35641303 0.79020693]\n",
      " [0.39391325 0.43076049]\n",
      " [0.29859374 0.46180109]\n",
      " [0.553125   0.90898454]\n",
      " [0.34915618 0.89573636]\n",
      " [0.430132   0.95445819]\n",
      " [0.63456446 0.68799357]\n",
      " [0.64591861 0.93124319]\n",
      " [0.48028022 0.80092475]\n",
      " [0.32543958 0.80586198]\n",
      " [0.86519967 0.59935514]\n",
      " [0.62709275 0.21705285]\n",
      " [0.79691912 0.32084839]\n",
      " [0.73096699 0.40969839]\n",
      " [0.76724279 0.0995423 ]\n",
      " [0.21256738 0.09233791]\n",
      " [0.50007372 0.02991334]\n",
      " [0.91535188 0.4787029 ]\n",
      " [0.98861965 0.22899502]\n",
      " [0.75367195 0.52465579]\n",
      " [0.83441887 0.01439147]\n",
      " [0.70838205 0.6497443 ]\n",
      " [0.53752322 0.43403684]\n",
      " [0.48231096 0.12696418]\n",
      " [0.39053553 0.16443832]\n",
      " [0.76825087 0.70333067]\n",
      " [0.66819962 0.55700442]\n",
      " [0.30106639 0.05519745]\n",
      " [0.73676321 0.58597535]\n",
      " [0.68246527 0.51098488]\n",
      " [0.75001292 0.09786121]\n",
      " [0.83629498 0.78183405]\n",
      " [0.90316672 0.84008036]\n",
      " [0.76122422 0.19490783]\n",
      " [0.64426316 0.00979461]\n",
      " [0.8119231  0.2212086 ]\n",
      " [0.78186359 0.59609373]\n",
      " [0.96113126 0.59069614]\n",
      " [0.89827702 0.42450853]\n",
      " [0.64018186 0.03774995]]\n"
     ]
    },
    {
     "ename": "ValueError",
     "evalue": "shapes (100,) and (2,) not aligned: 100 (dim 0) != 2 (dim 0)",
     "output_type": "error",
     "traceback": [
      "\u001b[0;31m---------------------------------------------------------------------------\u001b[0m",
      "\u001b[0;31mValueError\u001b[0m                                Traceback (most recent call last)",
      "\u001b[0;32m<ipython-input-4-5e99dc049397>\u001b[0m in \u001b[0;36m<module>\u001b[0;34m()\u001b[0m\n\u001b[1;32m      1\u001b[0m \u001b[0mweights\u001b[0m \u001b[0;34m=\u001b[0m \u001b[0;34m[\u001b[0m\u001b[0;36m0\u001b[0m\u001b[0;34m,\u001b[0m\u001b[0;36m0\u001b[0m\u001b[0;34m]\u001b[0m\u001b[0;34m\u001b[0m\u001b[0m\n\u001b[0;32m----> 2\u001b[0;31m \u001b[0mweights\u001b[0m \u001b[0;34m=\u001b[0m \u001b[0mlearn\u001b[0m\u001b[0;34m(\u001b[0m\u001b[0mX\u001b[0m\u001b[0;34m[\u001b[0m\u001b[0;34m:\u001b[0m\u001b[0;34m,\u001b[0m\u001b[0;34m:\u001b[0m\u001b[0;36m2\u001b[0m\u001b[0;34m]\u001b[0m\u001b[0;34m,\u001b[0m\u001b[0mX\u001b[0m\u001b[0;34m[\u001b[0m\u001b[0;34m:\u001b[0m\u001b[0;34m,\u001b[0m\u001b[0;36m2\u001b[0m\u001b[0;34m]\u001b[0m\u001b[0;34m,\u001b[0m\u001b[0mweights\u001b[0m\u001b[0;34m,\u001b[0m \u001b[0;36m500\u001b[0m\u001b[0;34m)\u001b[0m\u001b[0;34m\u001b[0m\u001b[0m\n\u001b[0m\u001b[1;32m      3\u001b[0m \u001b[0mweights\u001b[0m\u001b[0;34m\u001b[0m\u001b[0m\n",
      "\u001b[0;32m<ipython-input-2-0e69764d5abb>\u001b[0m in \u001b[0;36mlearn\u001b[0;34m(X, Y, w, iters)\u001b[0m\n\u001b[1;32m     10\u001b[0m     \u001b[0;32mfor\u001b[0m \u001b[0mi\u001b[0m \u001b[0;32min\u001b[0m \u001b[0mrange\u001b[0m\u001b[0;34m(\u001b[0m\u001b[0miters\u001b[0m\u001b[0;34m)\u001b[0m\u001b[0;34m:\u001b[0m\u001b[0;34m\u001b[0m\u001b[0m\n\u001b[1;32m     11\u001b[0m         \u001b[0;32mfor\u001b[0m \u001b[0mj\u001b[0m \u001b[0;32min\u001b[0m \u001b[0mrange\u001b[0m\u001b[0;34m(\u001b[0m\u001b[0mX\u001b[0m\u001b[0;34m.\u001b[0m\u001b[0mshape\u001b[0m\u001b[0;34m[\u001b[0m\u001b[0;36m1\u001b[0m\u001b[0;34m]\u001b[0m\u001b[0;34m)\u001b[0m\u001b[0;34m:\u001b[0m  \u001b[0;31m# loop over training set\u001b[0m\u001b[0;34m\u001b[0m\u001b[0m\n\u001b[0;32m---> 12\u001b[0;31m             \u001b[0;32mif\u001b[0m \u001b[0mnp\u001b[0m\u001b[0;34m.\u001b[0m\u001b[0msign\u001b[0m\u001b[0;34m(\u001b[0m\u001b[0mnp\u001b[0m\u001b[0;34m.\u001b[0m\u001b[0mdot\u001b[0m\u001b[0;34m(\u001b[0m\u001b[0mX\u001b[0m\u001b[0;34m[\u001b[0m\u001b[0;34m:\u001b[0m\u001b[0;34m,\u001b[0m \u001b[0mj\u001b[0m\u001b[0;34m]\u001b[0m\u001b[0;34m,\u001b[0m \u001b[0mw\u001b[0m\u001b[0;34m)\u001b[0m\u001b[0;34m)\u001b[0m \u001b[0;34m!=\u001b[0m \u001b[0mY\u001b[0m\u001b[0;34m[\u001b[0m\u001b[0;34m:\u001b[0m\u001b[0;34m,\u001b[0m \u001b[0mj\u001b[0m\u001b[0;34m]\u001b[0m\u001b[0;34m:\u001b[0m\u001b[0;34m\u001b[0m\u001b[0m\n\u001b[0m\u001b[1;32m     13\u001b[0m                 \u001b[0mw\u001b[0m \u001b[0;34m+=\u001b[0m \u001b[0mX\u001b[0m\u001b[0;34m[\u001b[0m\u001b[0;34m:\u001b[0m\u001b[0;34m,\u001b[0m \u001b[0mj\u001b[0m\u001b[0;34m]\u001b[0m\u001b[0;34m*\u001b[0m\u001b[0mY\u001b[0m\u001b[0;34m[\u001b[0m\u001b[0;34m:\u001b[0m\u001b[0;34m,\u001b[0m \u001b[0mj\u001b[0m\u001b[0;34m]\u001b[0m\u001b[0;34m\u001b[0m\u001b[0m\n\u001b[1;32m     14\u001b[0m     \u001b[0;32mreturn\u001b[0m \u001b[0mw\u001b[0m\u001b[0;34m\u001b[0m\u001b[0m\n",
      "\u001b[0;31mValueError\u001b[0m: shapes (100,) and (2,) not aligned: 100 (dim 0) != 2 (dim 0)"
     ]
    }
   ],
   "source": [
    "weights = [0,0]\n",
    "weights = learn(X[:,:2],X[:,2],weights, 500)\n",
    "weights"
   ]
  },
  {
   "cell_type": "markdown",
   "metadata": {},
   "source": [
    "### Non-LinSep Data "
   ]
  },
  {
   "cell_type": "code",
   "execution_count": 6,
   "metadata": {},
   "outputs": [
    {
     "data": {
      "image/png": "[encoded data removed]",
      "text/plain": [
       "<matplotlib.figure.Figure at 0x7f350a949320>"
      ]
     },
     "metadata": {},
     "output_type": "display_data"
    }
   ],
   "source": [
    "X = io.loadmat(\"sem4_q5_nonlinsep_data.mat\")['data']\n",
    "plt.scatter(X[:,0], X[:,1], c = X[:,2])\n",
    "plt.show()"
   ]
  },
  {
   "cell_type": "code",
   "execution_count": null,
   "metadata": {},
   "outputs": [],
   "source": []
  },
  {
   "cell_type": "code",
   "execution_count": null,
   "metadata": {},
   "outputs": [],
   "source": []
  },
  {
   "cell_type": "code",
   "execution_count": null,
   "metadata": {},
   "outputs": [],
   "source": []
  },
  {
   "cell_type": "markdown",
   "metadata": {},
   "source": [
    "# Multi-layer perceptron \n",
    "\n",
    "1 layer = linear boundary\n",
    "\n",
    "2 layer = polygons (no holes) \n",
    "\n",
    "3 layer = can approximate anything!\n",
    "\n",
    "Backpropogation = algorithm for training multilayer perceptron. Single layer: \n",
    "\n",
    "$$ \\Delta w_{ij} = x_i t_j$$\n",
    "where $t_j$ = target value ($j$?) and $x_i$ in the input value ($i$). Neuron $i$ to neuron $j$!\n",
    "\n",
    "But, we can't do this in a multi-layer perceptron since we don't know the targets! We shall need another strategy. \n",
    "\n",
    "$$ \\delta E / \\delta w_{ij} $$\n",
    "\n",
    "### Forward pass\n",
    "?? computing the output from the input...\n",
    "### Backward pass\n",
    "?? computing the error due to each node...\n",
    "\n",
    "$$ \\frac{\\delta E}{\\delta w_{}} = \\frac{}{} * \\frac{}{}$$\n",
    "\n"
   ]
  },
  {
   "cell_type": "code",
   "execution_count": null,
   "metadata": {},
   "outputs": [],
   "source": []
  },
  {
   "cell_type": "code",
   "execution_count": null,
   "metadata": {},
   "outputs": [],
   "source": []
  },
  {
   "cell_type": "code",
   "execution_count": null,
   "metadata": {},
   "outputs": [],
   "source": []
  },
  {
   "cell_type": "code",
   "execution_count": null,
   "metadata": {},
   "outputs": [],
   "source": []
  },
  {
   "cell_type": "code",
   "execution_count": null,
   "metadata": {},
   "outputs": [],
   "source": []
  },
  {
   "cell_type": "code",
   "execution_count": null,
   "metadata": {},
   "outputs": [],
   "source": []
  },
  {
   "cell_type": "code",
   "execution_count": null,
   "metadata": {},
   "outputs": [],
   "source": []
  },
  {
   "cell_type": "code",
   "execution_count": null,
   "metadata": {},
   "outputs": [],
   "source": []
  },
  {
   "cell_type": "code",
   "execution_count": null,
   "metadata": {},
   "outputs": [],
   "source": []
  },
  {
   "cell_type": "code",
   "execution_count": null,
   "metadata": {},
   "outputs": [],
   "source": []
  },
  {
   "cell_type": "code",
   "execution_count": null,
   "metadata": {},
   "outputs": [],
   "source": []
  },
  {
   "cell_type": "code",
   "execution_count": null,
   "metadata": {},
   "outputs": [],
   "source": [
    "# generate random data\n",
    "pts = 50\n",
    "X = np.zeros([2, pts])\n",
    "Y = np.zeros([1, pts])\n",
    "\n",
    "for i in range(pts):\n",
    "    x1 = sp.rand()\n",
    "    x2 = sp.rand()\n",
    "    y = 1\n",
    "    if x1 < x2:\n",
    "        y = -1\n",
    "    X[:, i] = [x1, x2]\n",
    "    Y[:, i] = y\n",
    "\n",
    "w_final = learn(X, Y, [1, 50], 30)\n",
    "\n",
    "for i in range(X.shape[1]):\n",
    "    x = X[:, i]\n",
    "    if np.dot(x, w_final) < 0:\n",
    "        plt.scatter(x[0], x[1], c='r')\n",
    "    else:\n",
    "        plt.scatter(x[0], x[1], c='b')\n",
    "plt.plot([0, 1], [0, 1])"
   ]
  },
  {
   "cell_type": "code",
   "execution_count": null,
   "metadata": {},
   "outputs": [],
   "source": []
  }
 ],
 "metadata": {
  "kernelspec": {
   "display_name": "Python 3",
   "language": "python",
   "name": "python3"
  },
  "language_info": {
   "codemirror_mode": {
    "name": "ipython",
    "version": 3
   },
   "file_extension": ".py",
   "mimetype": "text/x-python",
   "name": "python",
   "nbconvert_exporter": "python",
   "pygments_lexer": "ipython3",
   "version": "3.6.3"
  }
 },
 "nbformat": 4,
 "nbformat_minor": 2
}
